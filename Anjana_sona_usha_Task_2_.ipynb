{
  "nbformat": 4,
  "nbformat_minor": 0,
  "metadata": {
    "colab": {
      "provenance": []
    },
    "kernelspec": {
      "name": "python3",
      "display_name": "Python 3"
    },
    "language_info": {
      "name": "python"
    }
  },
  "cells": [
    {
      "cell_type": "markdown",
      "source": [
        "Write a program to create a function show_employee() using the following conditions.\n",
        "●\tIt should accept the employee’s name and salary and display both.\n",
        "●\tIf the salary is missing in the function call then assign default value 9000 to salary\n",
        "Given:\n",
        "showEmployee(\"Ben\", 12000)\n",
        "showEmployee(\"Jessa\")\n",
        "Expected output:\n",
        "Name: Ben salary: 12000\n",
        "Name: Jessa salary: 9000\n"
      ],
      "metadata": {
        "id": "j2i3wh9UdcxD"
      }
    },
    {
      "cell_type": "code",
      "source": [
        "def show_employee(name, salary=9000):\n",
        "    print(f\"Name: {name} Salary: {salary}\")\n",
        "\n",
        "\n",
        "show_employee(\"Ben\", 12000)\n",
        "show_employee(\"Jessa\")\n"
      ],
      "metadata": {
        "colab": {
          "base_uri": "https://localhost:8080/"
        },
        "id": "8R2qqGn5du88",
        "outputId": "80610d4c-70e0-46ac-9592-2db970e3cf33"
      },
      "execution_count": null,
      "outputs": [
        {
          "output_type": "stream",
          "name": "stdout",
          "text": [
            "Name: Ben Salary: 12000\n",
            "Name: Jessa Salary: 9000\n"
          ]
        }
      ]
    },
    {
      "cell_type": "markdown",
      "source": [
        "Exercise 2: Create an inner function to calculate the addition in the following way\n",
        "●\tCreate an outer function that will accept two parameters, a and b\n",
        "●\tCreate an inner function inside an outer function that will calculate the addition of a and b\n",
        "●\tAt last, an outer function will add 5 into addition and return it\n",
        "\n"
      ],
      "metadata": {
        "id": "WzQznIOoih-I"
      }
    },
    {
      "cell_type": "code",
      "source": [
        "def outer_function(a, b):\n",
        "    def inner_function():\n",
        "        return a + b\n",
        "\n",
        "    addition = inner_function()\n",
        "    result = addition + 5\n",
        "    return result\n",
        "\n",
        "\n",
        "final_result = outer_function(3, 7)\n",
        "print(final_result)\n"
      ],
      "metadata": {
        "colab": {
          "base_uri": "https://localhost:8080/"
        },
        "id": "w5y6EqSEkXNE",
        "outputId": "787a3932-47e4-4302-d260-3158ad52ff22"
      },
      "execution_count": null,
      "outputs": [
        {
          "output_type": "stream",
          "name": "stdout",
          "text": [
            "15\n"
          ]
        }
      ]
    },
    {
      "cell_type": "markdown",
      "source": [
        "Exercise 3: Generate a Python list of all the even numbers between 4 to 30\n"
      ],
      "metadata": {
        "id": "0f4-iB_Ikpdo"
      }
    },
    {
      "cell_type": "code",
      "source": [
        "\n",
        "\n",
        "even_numbers = [num for num in range(4, 31) if num % 2 == 0]\n",
        "print(even_numbers)\n"
      ],
      "metadata": {
        "colab": {
          "base_uri": "https://localhost:8080/"
        },
        "id": "2Lx6_GPMkwYM",
        "outputId": "c7a35e2d-cc70-4a5d-bba9-29d8ed9e6948"
      },
      "execution_count": null,
      "outputs": [
        {
          "output_type": "stream",
          "name": "stdout",
          "text": [
            "[4, 6, 8, 10, 12, 14, 16, 18, 20, 22, 24, 26, 28, 30]\n"
          ]
        }
      ]
    },
    {
      "cell_type": "markdown",
      "source": [
        "Exercise 4: Lambda Function to Check if value is in a List\n",
        "Given a list, the task is to write a Python program to check if the value exists in the list or not using the lambda function.\n",
        "\n",
        "\n",
        "Input  : L = [1, 2, 3, 4, 5]\n",
        "          element = 4\n",
        "Output :  Element is Present in the list\n",
        "\n",
        "Input :  L = [1, 2, 3, 4, 5]\n",
        "          element = 8\n",
        "Output :  Element is NOT Present in the list\n",
        "\n",
        "\n",
        "\n"
      ],
      "metadata": {
        "id": "KtFuCRmllG_u"
      }
    },
    {
      "cell_type": "code",
      "source": [
        "check_element = lambda L, element: \"Element is Present in the list\" if element in L else \"Element is NOT Present in the list\"\n",
        "\n",
        "list_1 = [1, 2, 3, 4, 5]\n",
        "element_1 = 4\n",
        "print(check_element(list_1, element_1))\n",
        "\n",
        "list_2 = [1, 2, 3, 4, 5]\n",
        "element_2 = 8\n",
        "print(check_element(list_2, element_2))\n"
      ],
      "metadata": {
        "colab": {
          "base_uri": "https://localhost:8080/"
        },
        "id": "Vpn5PTGll3ow",
        "outputId": "9279ef6f-aa44-4c5a-bc74-f56dc9bf729c"
      },
      "execution_count": null,
      "outputs": [
        {
          "output_type": "stream",
          "name": "stdout",
          "text": [
            "Element is Present in the list\n",
            "Element is NOT Present in the list\n"
          ]
        }
      ]
    },
    {
      "cell_type": "markdown",
      "source": [
        "Exercise 5: Sort list of tuples with their sum\n",
        "Sort the points based on their sum of elements in the tuples\n",
        "\n",
        "points = [(1, 2), (5, 3), (0, 7), (3, 1)]\n"
      ],
      "metadata": {
        "id": "YQhKI-QaGKY_"
      }
    },
    {
      "cell_type": "code",
      "source": [
        "points = [(1, 2), (5, 3), (0, 7), (3, 1)]\n",
        "\n",
        "sorted_points = sorted(points, key=lambda point: sum(point))\n",
        "\n",
        "print(sorted_points)\n"
      ],
      "metadata": {
        "colab": {
          "base_uri": "https://localhost:8080/"
        },
        "id": "3eVklzmMGM1L",
        "outputId": "f7a0d010-9cf4-4d96-f776-c36b3d11419b"
      },
      "execution_count": null,
      "outputs": [
        {
          "output_type": "stream",
          "name": "stdout",
          "text": [
            "[(1, 2), (3, 1), (0, 7), (5, 3)]\n"
          ]
        }
      ]
    },
    {
      "cell_type": "code",
      "source": [],
      "metadata": {
        "id": "ajbiWh9fFxuP"
      },
      "execution_count": null,
      "outputs": []
    },
    {
      "cell_type": "markdown",
      "source": [
        "Exercise 6 :\n",
        "Write a python function, which will find all such numbers between 1000 and 3000 (both included) such that each digit of the number is an even number. Return the results as a list\n",
        "\n"
      ],
      "metadata": {
        "id": "MdQGPLNzMpz-"
      }
    },
    {
      "cell_type": "code",
      "source": [
        "def find_even_digit_numbers():\n",
        "    even_digit_numbers = []\n",
        "\n",
        "    for num in range(1000, 3001):\n",
        "        digits = [int(d) for d in str(num)]\n",
        "        all_even = all(digit % 2 == 0 for digit in digits)\n",
        "\n",
        "        if all_even:\n",
        "            even_digit_numbers.append(num)\n",
        "\n",
        "    return even_digit_numbers\n",
        "\n",
        "result = find_even_digit_numbers()\n",
        "print(result)\n"
      ],
      "metadata": {
        "colab": {
          "base_uri": "https://localhost:8080/"
        },
        "id": "WG9S291PMtyp",
        "outputId": "ee678812-b904-48c5-ea8a-17a01c48e000"
      },
      "execution_count": null,
      "outputs": [
        {
          "output_type": "stream",
          "name": "stdout",
          "text": [
            "[2000, 2002, 2004, 2006, 2008, 2020, 2022, 2024, 2026, 2028, 2040, 2042, 2044, 2046, 2048, 2060, 2062, 2064, 2066, 2068, 2080, 2082, 2084, 2086, 2088, 2200, 2202, 2204, 2206, 2208, 2220, 2222, 2224, 2226, 2228, 2240, 2242, 2244, 2246, 2248, 2260, 2262, 2264, 2266, 2268, 2280, 2282, 2284, 2286, 2288, 2400, 2402, 2404, 2406, 2408, 2420, 2422, 2424, 2426, 2428, 2440, 2442, 2444, 2446, 2448, 2460, 2462, 2464, 2466, 2468, 2480, 2482, 2484, 2486, 2488, 2600, 2602, 2604, 2606, 2608, 2620, 2622, 2624, 2626, 2628, 2640, 2642, 2644, 2646, 2648, 2660, 2662, 2664, 2666, 2668, 2680, 2682, 2684, 2686, 2688, 2800, 2802, 2804, 2806, 2808, 2820, 2822, 2824, 2826, 2828, 2840, 2842, 2844, 2846, 2848, 2860, 2862, 2864, 2866, 2868, 2880, 2882, 2884, 2886, 2888]\n"
          ]
        }
      ]
    },
    {
      "cell_type": "markdown",
      "source": [
        "Exercise 7 :\n",
        "Write a python function that accepts a sentence and calculate and return the number of letters and digits.\n",
        "Suppose the following input is supplied to the program:\n",
        "hello world! 123\n",
        "Then, the output should be:\n",
        "LETTERS 10\n",
        "DIGITS 3\n"
      ],
      "metadata": {
        "id": "uWul3JtzNIRj"
      }
    },
    {
      "cell_type": "code",
      "source": [
        "def count_letters_digits(sentence):\n",
        "    letters = 0\n",
        "    digits = 0\n",
        "\n",
        "    for char in sentence:\n",
        "        if char.isalpha():\n",
        "            letters += 1\n",
        "        elif char.isdigit():\n",
        "            digits += 1\n",
        "\n",
        "    return f\"LETTERS {letters}\\nDIGITS {digits}\"\n",
        "input_sentence = \"hello world! 123\"\n",
        "\n",
        "result = count_letters_digits(input_sentence)\n",
        "print(result)\n"
      ],
      "metadata": {
        "colab": {
          "base_uri": "https://localhost:8080/"
        },
        "id": "5mR2AAiQNNoY",
        "outputId": "d5ac92fe-dfe4-4fe2-ff18-a5ad63f61c89"
      },
      "execution_count": null,
      "outputs": [
        {
          "output_type": "stream",
          "name": "stdout",
          "text": [
            "LETTERS 10\n",
            "DIGITS 3\n"
          ]
        }
      ]
    },
    {
      "cell_type": "markdown",
      "source": [
        "Exercise 8  MAP:\n",
        "Write a Python program to convert all the characters into uppercase and lowercase and eliminate duplicate letters from a given sequence. Use the map() function\n"
      ],
      "metadata": {
        "id": "yXtArBM1Nzcz"
      }
    },
    {
      "cell_type": "code",
      "source": [
        "def manipulate_sequence(sequence):\n",
        "    upper_case = map(lambda x: x.upper(), sequence)\n",
        "    lower_case = map(lambda x: x.lower(), sequence)\n",
        "\n",
        "    unique_chars_upper = set(upper_case)\n",
        "    unique_chars_lower = set(lower_case)\n",
        "\n",
        "    return unique_chars_upper, unique_chars_lower\n",
        "\n",
        "input_sequence = \"Hello, World!\"\n",
        "unique_upper, unique_lower = manipulate_sequence(input_sequence)\n",
        "\n",
        "print(\"Unique characters in uppercase:\", unique_upper)\n",
        "print(\"Unique characters in lowercase:\", unique_lower)\n"
      ],
      "metadata": {
        "id": "EOcFS5jsN9Au",
        "colab": {
          "base_uri": "https://localhost:8080/"
        },
        "outputId": "1e8e31a4-6585-47ec-aabf-eeb7c36b488d"
      },
      "execution_count": 1,
      "outputs": [
        {
          "output_type": "stream",
          "name": "stdout",
          "text": [
            "Unique characters in uppercase: {'E', ' ', 'L', 'R', 'D', '!', 'H', ',', 'O', 'W'}\n",
            "Unique characters in lowercase: {' ', 'l', 'r', 'w', 'e', 'o', '!', ',', 'd', 'h'}\n"
          ]
        }
      ]
    },
    {
      "cell_type": "markdown",
      "source": [
        "Exercise 9 MAP:\n",
        " Write a Python program to add two given lists and find the difference between them. Use the map() function\n"
      ],
      "metadata": {
        "id": "Yvkxy6Fqeobd"
      }
    },
    {
      "cell_type": "code",
      "source": [
        "def add_lists(list1, list2):\n",
        "    addition_result = list(map(lambda x, y: x + y, list1, list2))\n",
        "    difference_result = list(map(lambda x, y: x - y, list1, list2))\n",
        "\n",
        "    return addition_result, difference_result\n",
        "\n",
        "\n",
        "first_list = [1, 2, 3, 4, 5]\n",
        "second_list = [5, 4, 3, 2, 1]\n",
        "\n",
        "addition_result, difference_result = add_lists(first_list, second_list)\n",
        "\n",
        "print(\"Result of addition:\", addition_result)\n",
        "print(\"Result of difference:\", difference_result)\n"
      ],
      "metadata": {
        "colab": {
          "base_uri": "https://localhost:8080/"
        },
        "id": "lLG9frG4euXd",
        "outputId": "d22e103b-1f6d-4e2e-da22-408448dcc244"
      },
      "execution_count": 2,
      "outputs": [
        {
          "output_type": "stream",
          "name": "stdout",
          "text": [
            "Result of addition: [6, 6, 6, 6, 6]\n",
            "Result of difference: [-4, -2, 0, 2, 4]\n"
          ]
        }
      ]
    },
    {
      "cell_type": "markdown",
      "source": [],
      "metadata": {
        "id": "etNkMspKfBLW"
      }
    },
    {
      "cell_type": "markdown",
      "source": [
        "Exercise 10 Filter:\n",
        "Write a Python program to filter the height and weight of students, which are stored in a dictionary using lambda.\n",
        "Original Dictionary:\n",
        "{'Cierra Vega': (6.2, 71), 'Alden Cantrell': (5.9, 65), 'Kierra Gentry': (6.0, 68), 'Pierre Cox': (5.8, 66)}\n",
        "Height> 6ft and Weight> 70kg:\n",
        "{'Cierra Vega': (6.2, 71)}\n"
      ],
      "metadata": {
        "id": "lFtRx-63hfwk"
      }
    },
    {
      "cell_type": "code",
      "source": [
        "\n",
        "student_data = {'Cierra Vega': (6.2, 71), 'Alden Cantrell': (5.9, 65), 'Kierra Gentry': (6.0, 68), 'Pierre Cox': (5.8, 66)}\n",
        "\n",
        "filtered_students = dict(filter(lambda item: item[1][0] > 6.0 and item[1][1] > 70, student_data.items()))\n",
        "\n",
        "print(\"Height > 6ft and Weight > 70kg:\")\n",
        "print(filtered_students)\n"
      ],
      "metadata": {
        "colab": {
          "base_uri": "https://localhost:8080/"
        },
        "id": "BxstxuTYhiEq",
        "outputId": "f7f1a31e-668c-4303-dc62-67963b005a89"
      },
      "execution_count": 3,
      "outputs": [
        {
          "output_type": "stream",
          "name": "stdout",
          "text": [
            "Height > 6ft and Weight > 70kg:\n",
            "{'Cierra Vega': (6.2, 71)}\n"
          ]
        }
      ]
    },
    {
      "cell_type": "markdown",
      "source": [],
      "metadata": {
        "id": "TCeRoIXKh-yM"
      }
    },
    {
      "cell_type": "markdown",
      "source": [
        "Exercise 11 Filter:\n",
        "Write a Python program to remove all elements from a given list present in another list using lambda.\n",
        "Original lists:\n",
        "list1: [1, 2, 3, 4, 5, 6, 7, 8, 9, 10]\n",
        "list2: [2, 4, 6, 8]\n",
        "Remove all elements from 'list1' present in 'list2:\n",
        "[1, 3, 5, 7, 9, 10]\n"
      ],
      "metadata": {
        "id": "JSQUqnwNiF-u"
      }
    },
    {
      "cell_type": "code",
      "source": [
        "list1 = [1, 2, 3, 4, 5, 6, 7, 8, 9, 10]\n",
        "list2 = [2, 4, 6, 8]\n",
        "\n",
        "filtered_list = list(filter(lambda x: x not in list2, list1))\n",
        "\n",
        "print(\"Result after removing elements from 'list1' present in 'list2':\")\n",
        "print(filtered_list)\n"
      ],
      "metadata": {
        "colab": {
          "base_uri": "https://localhost:8080/"
        },
        "id": "NwopbuwKiOic",
        "outputId": "45047e6d-513f-4432-aa82-2c789804f377"
      },
      "execution_count": 5,
      "outputs": [
        {
          "output_type": "stream",
          "name": "stdout",
          "text": [
            "Result after removing elements from 'list1' present in 'list2':\n",
            "[1, 3, 5, 7, 9, 10]\n"
          ]
        }
      ]
    },
    {
      "cell_type": "markdown",
      "source": [
        "Exercise 12 Reduce:\n",
        "\n",
        "Write a Python program to calculate the product of a given list of numbers using lambda.\n",
        "list1: [1, 2, 3, 4, 5, 6, 7, 8, 9, 10]\n",
        "Product of the said list numbers:\n",
        "3628800\n"
      ],
      "metadata": {
        "id": "q5rYN825ptKf"
      }
    },
    {
      "cell_type": "code",
      "source": [
        "list1 = [1, 2, 3, 4, 5, 6, 7, 8, 9, 10]\n",
        "\n",
        "product = 1\n",
        "for num in list1:\n",
        "    product *= num\n",
        "\n",
        "print(\"Product of the numbers in the list:\")\n",
        "print(product)\n"
      ],
      "metadata": {
        "colab": {
          "base_uri": "https://localhost:8080/"
        },
        "id": "xFNhzKDmqOFj",
        "outputId": "1d31e329-325c-41f6-a5bf-d5878d747dde"
      },
      "execution_count": 8,
      "outputs": [
        {
          "output_type": "stream",
          "name": "stdout",
          "text": [
            "Product of the numbers in the list:\n",
            "3628800\n"
          ]
        }
      ]
    },
    {
      "cell_type": "markdown",
      "source": [
        "Exercise 13 Reduce:\n",
        "\n",
        " Write a Python program to multiply all the numbers in a given list using lambda.\n",
        "Original list:\n",
        "[4, 3, 2, 2, -1, 18]\n",
        "Mmultiply all the numbers of the said list: -864\n"
      ],
      "metadata": {
        "id": "ZHUbMS0uqWWI"
      }
    },
    {
      "cell_type": "markdown",
      "source": [],
      "metadata": {
        "id": "vGC5mWW0qqON"
      }
    },
    {
      "cell_type": "code",
      "source": [
        "from functools import reduce\n",
        "\n",
        "original_list = [4, 3, 2, 2, -1, 18]\n",
        "\n",
        "result = reduce(lambda x, y: x * y, original_list)\n",
        "\n",
        "print(\"Result of multiplying all numbers in the list:\")\n",
        "print(result)\n"
      ],
      "metadata": {
        "colab": {
          "base_uri": "https://localhost:8080/"
        },
        "id": "TdrPSnx6qq3i",
        "outputId": "db79d0e9-bf2f-4a06-ce4f-98ec1ad7b1b3"
      },
      "execution_count": 9,
      "outputs": [
        {
          "output_type": "stream",
          "name": "stdout",
          "text": [
            "Result of multiplying all numbers in the list:\n",
            "-864\n"
          ]
        }
      ]
    },
    {
      "cell_type": "markdown",
      "source": [
        "Exercise 14 Reduce:\n",
        "\n",
        "Write a Python program to calculate the average value of the numbers in a given tuple of tuples using lambda.\n",
        "Original Tuple:\n",
        "((10, 10, 10), (30, 45, 56), (81, 80, 39), (1, 2, 3))\n",
        "Average value of the numbers of the said tuple of tuples:\n",
        "(30.5, 34.25, 27.0)\n",
        "\n"
      ],
      "metadata": {
        "id": "EvvXAGyksDFC"
      }
    },
    {
      "cell_type": "code",
      "source": [
        "original_tuple = ((10, 10, 10), (30, 45, 56), (81, 80, 39), (1, 2, 3))\n",
        "average_result = tuple(round(sum(nums) / len(nums), 2) for nums in zip(*original_tuple))\n",
        "\n",
        "print(\"Average value of the numbers of the tuple of tuples:\")\n",
        "print(average_result)\n"
      ],
      "metadata": {
        "colab": {
          "base_uri": "https://localhost:8080/"
        },
        "id": "igP6nfRYs1sd",
        "outputId": "c83f76c3-f132-41cf-93ee-8febd938e751"
      },
      "execution_count": 11,
      "outputs": [
        {
          "output_type": "stream",
          "name": "stdout",
          "text": [
            "Average value of the numbers of the tuple of tuples:\n",
            "(30.5, 34.25, 27.0)\n"
          ]
        }
      ]
    },
    {
      "cell_type": "markdown",
      "source": [
        "Exercise 15:\n",
        "\n",
        "Write a Python program to sort a given mixed list of integers and strings using lambda. Numbers must be sorted before strings.\n",
        "Original list:\n",
        "[19, 'red', 12, 'green', 'blue', 10, 'white', 'green', 1]\n",
        "Sort the said mixed list of integers and strings:\n",
        "[1, 10, 12, 19, 'blue', 'green', 'green', 'red', 'white']\n"
      ],
      "metadata": {
        "id": "YUI55ZF8tAYx"
      }
    },
    {
      "cell_type": "code",
      "source": [
        "original_list = [19, 'red', 12, 'green', 'blue', 10, 'white', 'green', 1]\n",
        "\n",
        "sorted_list = sorted(original_list, key=lambda x: (isinstance(x, int), x))\n",
        "\n",
        "print(\"Sorted mixed list of integers and strings:\")\n",
        "print(sorted_list)\n"
      ],
      "metadata": {
        "colab": {
          "base_uri": "https://localhost:8080/"
        },
        "id": "Ej_Y_yJwtHzE",
        "outputId": "1b096077-140c-442f-d071-b1d05dd2d36f"
      },
      "execution_count": 12,
      "outputs": [
        {
          "output_type": "stream",
          "name": "stdout",
          "text": [
            "Sorted mixed list of integers and strings:\n",
            "['blue', 'green', 'green', 'red', 'white', 1, 10, 12, 19]\n"
          ]
        }
      ]
    },
    {
      "cell_type": "markdown",
      "source": [
        "Exercise 16:\n",
        "Write a Python program to count the occurrences of items in a given list using lambda.\n",
        "Original list:[3, 4, 5, 8, 0, 3, 8, 5, 0, 3, 1, 5, 2, 3, 4, 2]\n",
        "Count the occurrences of the items in the said list:{3: 4, 4: 2, 5: 3, 8: 2, 0: 2, 1: 1, 2: 2}\n"
      ],
      "metadata": {
        "id": "VDatc8P4vErH"
      }
    },
    {
      "cell_type": "code",
      "source": [
        "given_list = [3, 4, 5, 8, 0, 3, 8, 5, 0, 3, 1, 5, 2, 3, 4, 2]\n",
        "occurrences = dict(map(lambda x: (x, given_list.count(x)), given_list))\n",
        "\n",
        "print(\"Occurrences of items in the list:\")\n",
        "print(occurrences)\n"
      ],
      "metadata": {
        "colab": {
          "base_uri": "https://localhost:8080/"
        },
        "id": "2bJ5DC4lvdI8",
        "outputId": "0086c9e7-d79d-411b-8c95-6853fc596efb"
      },
      "execution_count": 13,
      "outputs": [
        {
          "output_type": "stream",
          "name": "stdout",
          "text": [
            "Occurrences of items in the list:\n",
            "{3: 4, 4: 2, 5: 3, 8: 2, 0: 2, 1: 1, 2: 2}\n"
          ]
        }
      ]
    },
    {
      "cell_type": "markdown",
      "source": [
        "Exercise 17:\n",
        "\n",
        "Write a Python program to remove None values from a given list using the lambda function.\n",
        "Original list:\n",
        "[12, 0, None, 23, None, -55, 234, 89, None, 0, 6, -12]\n",
        "Remove None value from the said list:\n",
        "[12, 0, 23, -55, 234, 89, 0, 6, -12]\n"
      ],
      "metadata": {
        "id": "d83WxCf1vkcf"
      }
    },
    {
      "cell_type": "code",
      "source": [
        "original_list = [12, 0, None, 23, None, -55, 234, 89, None, 0, 6, -12]\n",
        "\n",
        "filtered_list = list(filter(lambda x: x is not None, original_list))\n",
        "\n",
        "print(\"Remove None value from the list:\")\n",
        "print(filtered_list)\n"
      ],
      "metadata": {
        "colab": {
          "base_uri": "https://localhost:8080/"
        },
        "id": "hv4gDq8uvqIU",
        "outputId": "c958443c-303c-4ce0-a81a-57aa6322ba96"
      },
      "execution_count": 14,
      "outputs": [
        {
          "output_type": "stream",
          "name": "stdout",
          "text": [
            "Remove None value from the list:\n",
            "[12, 0, 23, -55, 234, 89, 0, 6, -12]\n"
          ]
        }
      ]
    }
  ]
}