{
  "nbformat": 4,
  "nbformat_minor": 0,
  "metadata": {
    "colab": {
      "provenance": []
    },
    "kernelspec": {
      "name": "python3",
      "display_name": "Python 3"
    },
    "language_info": {
      "name": "python"
    }
  },
  "cells": [
    {
      "cell_type": "markdown",
      "source": [
        "1.  Write a Python program to create a class representing a Circle. Include methods to calculate its area and perimeter."
      ],
      "metadata": {
        "id": "x6DxZLkeED04"
      }
    },
    {
      "cell_type": "code",
      "source": [
        "import math\n",
        "\n",
        "class Circle:\n",
        "    def __init__(self, radius):\n",
        "        self.radius = radius\n",
        "\n",
        "    def area(self):\n",
        "        return math.pi * self.radius ** 2\n",
        "\n",
        "    def perimeter(self):\n",
        "        return 2 * math.pi * self.radius\n",
        "\n",
        "# Example usage:\n",
        "radius = float(input(\"Enter the radius of the circle: \"))\n",
        "my_circle = Circle(radius)\n",
        "\n",
        "print(f\"Area of the circle: {my_circle.area():.2f}\")\n",
        "print(f\"Perimeter of the circle: {my_circle.perimeter():.2f}\")\n"
      ],
      "metadata": {
        "colab": {
          "base_uri": "https://localhost:8080/"
        },
        "id": "Yz7f6Y_UEjvY",
        "outputId": "e15b0ee4-5cad-4302-f779-251a0ee26c71"
      },
      "execution_count": 1,
      "outputs": [
        {
          "output_type": "stream",
          "name": "stdout",
          "text": [
            "Enter the radius of the circle: 2\n",
            "Area of the circle: 12.57\n",
            "Perimeter of the circle: 12.57\n"
          ]
        }
      ]
    },
    {
      "cell_type": "code",
      "source": [],
      "metadata": {
        "id": "OGXfRA8uEMeA"
      },
      "execution_count": null,
      "outputs": []
    },
    {
      "cell_type": "markdown",
      "source": [
        "2. Write a Python program to create a calculator class. Include methods for basic arithmetic operations."
      ],
      "metadata": {
        "id": "ZuqNE0HIEtxt"
      }
    },
    {
      "cell_type": "code",
      "source": [
        "class Calculator:\n",
        "    def add(self, num1, num2):\n",
        "        return num1 + num2\n",
        "\n",
        "    def subtract(self, num1, num2):\n",
        "        return num1 - num2\n",
        "\n",
        "    def multiply(self, num1, num2):\n",
        "        return num1 * num2\n",
        "\n",
        "    def divide(self, num1, num2):\n",
        "        if num2 != 0:\n",
        "            return num1 / num2\n",
        "        else:\n",
        "            return \"Cannot divide by zero\"\n",
        "\n",
        "\n",
        "calculator = Calculator()\n",
        "\n",
        "num1 = float(input(\"Enter the first number: \"))\n",
        "num2 = float(input(\"Enter the second number: \"))\n",
        "\n",
        "print(f\"Sum: {calculator.add(num1, num2)}\")\n",
        "print(f\"Difference: {calculator.subtract(num1, num2)}\")\n",
        "print(f\"Product: {calculator.multiply(num1, num2)}\")\n",
        "\n",
        "result_division = calculator.divide(num1, num2)\n",
        "print(f\"Quotient: {result_division}\")\n"
      ],
      "metadata": {
        "colab": {
          "base_uri": "https://localhost:8080/"
        },
        "id": "tfCM42KBFlL0",
        "outputId": "38dcac34-0f6d-4546-cd64-bf962190adb6"
      },
      "execution_count": 2,
      "outputs": [
        {
          "output_type": "stream",
          "name": "stdout",
          "text": [
            "Enter the first number: 5\n",
            "Enter the second number: 6\n",
            "Sum: 11.0\n",
            "Difference: -1.0\n",
            "Product: 30.0\n",
            "Quotient: 0.8333333333333334\n"
          ]
        }
      ]
    },
    {
      "cell_type": "markdown",
      "source": [
        "3. Write a Python program to create a class that represents a shape. Include methods to calculate its area and perimeter. Implement subclasses for different shapes like circle, triangle, and square."
      ],
      "metadata": {
        "id": "jrqXRbw9GPqy"
      }
    },
    {
      "cell_type": "code",
      "source": [
        "import math\n",
        "\n",
        "class Shape:\n",
        "    def area(self):\n",
        "        pass\n",
        "\n",
        "    def perimeter(self):\n",
        "        pass\n",
        "\n",
        "class Circle(Shape):\n",
        "    def __init__(self, radius):\n",
        "        self.radius = radius\n",
        "\n",
        "    def area(self):\n",
        "        return math.pi * self.radius ** 2\n",
        "\n",
        "    def perimeter(self):\n",
        "        return 2 * math.pi * self.radius\n",
        "\n",
        "class Triangle(Shape):\n",
        "    def __init__(self, side1, side2, side3):\n",
        "        self.side1 = side1\n",
        "        self.side2 = side2\n",
        "        self.side3 = side3\n",
        "\n",
        "    def area(self):\n",
        "        s = (self.side1 + self.side2 + self.side3) / 2\n",
        "        return math.sqrt(s * (s - self.side1) * (s - self.side2) * (s - self.side3))\n",
        "\n",
        "    def perimeter(self):\n",
        "        return self.side1 + self.side2 + self.side3\n",
        "\n",
        "class Square(Shape):\n",
        "    def __init__(self, side):\n",
        "        self.side = side\n",
        "\n",
        "    def area(self):\n",
        "        return self.side ** 2\n",
        "\n",
        "    def perimeter(self):\n",
        "        return 4 * self.side\n",
        "\n",
        "\n",
        "circle = Circle(radius=5)\n",
        "print(f\"Circle - Area: {circle.area():.2f}, Perimeter: {circle.perimeter():.2f}\")\n",
        "\n",
        "triangle = Triangle(side1=3, side2=4, side3=5)\n",
        "print(f\"Triangle - Area: {triangle.area():.2f}, Perimeter: {triangle.perimeter():.2f}\")\n",
        "\n",
        "square = Square(side=4)\n",
        "print(f\"Square - Area: {square.area():.2f}, Perimeter: {square.perimeter():.2f}\")\n"
      ],
      "metadata": {
        "colab": {
          "base_uri": "https://localhost:8080/"
        },
        "id": "pOQTLrY_GeeJ",
        "outputId": "ea981e59-9962-4534-ae8f-f7fa6012c332"
      },
      "execution_count": 3,
      "outputs": [
        {
          "output_type": "stream",
          "name": "stdout",
          "text": [
            "Circle - Area: 78.54, Perimeter: 31.42\n",
            "Triangle - Area: 6.00, Perimeter: 12.00\n",
            "Square - Area: 16.00, Perimeter: 16.00\n"
          ]
        }
      ]
    }
  ]
}