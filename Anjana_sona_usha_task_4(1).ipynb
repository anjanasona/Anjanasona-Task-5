{
  "nbformat": 4,
  "nbformat_minor": 0,
  "metadata": {
    "colab": {
      "provenance": []
    },
    "kernelspec": {
      "name": "python3",
      "display_name": "Python 3"
    },
    "language_info": {
      "name": "python"
    }
  },
  "cells": [
    {
      "cell_type": "markdown",
      "source": [
        "1. Write a Python program to check that a string contains only a certain set of characters (in this case a-z, A-Z and 0-9).\n",
        "\n"
      ],
      "metadata": {
        "id": "fpQX9wBhb6ox"
      }
    },
    {
      "cell_type": "code",
      "source": [
        "import re\n",
        "\n",
        "def is_valid_string(input_string):\n",
        "    # Define the pattern to match only a-z, A-Z, and 0-9\n",
        "    pattern = re.compile(r'^[a-zA-Z0-9]+$')\n",
        "\n",
        "    # Use the pattern to match the input string\n",
        "    match = pattern.match(input_string)\n",
        "\n",
        "    # Check if the match is successful\n",
        "    if match:\n",
        "        return True\n",
        "    else:\n",
        "        return False\n",
        "\n",
        "input_str = input(\"Enter a string to check: \")\n",
        "if is_valid_string(input_str):\n",
        "    print(\"The string is valid.\")\n",
        "else:\n",
        "    print(\"The string is not valid.\")\n"
      ],
      "metadata": {
        "id": "oyh36j7UnTjI",
        "colab": {
          "base_uri": "https://localhost:8080/"
        },
        "outputId": "478d20b8-68c2-4b3e-c0b6-ca7088c77310"
      },
      "execution_count": null,
      "outputs": [
        {
          "output_type": "stream",
          "name": "stdout",
          "text": [
            "Enter a string to check: \"hello\"\n",
            "The string is not valid.\n"
          ]
        }
      ]
    },
    {
      "cell_type": "markdown",
      "source": [
        "2. Write a Python program that matches a string that has an a followed by zero or more b's.\n",
        "\n"
      ],
      "metadata": {
        "id": "rtdxRzltcRtS"
      }
    },
    {
      "cell_type": "code",
      "source": [
        "import re\n",
        "\n",
        "def match_pattern(input_string):\n",
        "    # Define the pattern: 'a' followed by zero or more 'b's\n",
        "    pattern = re.compile(r'a*b*')\n",
        "\n",
        "    # Use the pattern to search for a match in the input string\n",
        "    match = pattern.fullmatch(input_string)\n",
        "\n",
        "    # Check if the full string matches the pattern\n",
        "    if match:\n",
        "        return True\n",
        "    else:\n",
        "        return False\n",
        "\n",
        "\n",
        "input_str = input(\"Enter a string to check: \")\n",
        "if match_pattern(input_str):\n",
        "    print(\"The string matches the pattern.\")\n",
        "else:\n",
        "    print(\"The string does not match the pattern.\")\n"
      ],
      "metadata": {
        "colab": {
          "base_uri": "https://localhost:8080/"
        },
        "id": "k-k8Lr51qt46",
        "outputId": "875bba8f-e9ed-42f9-f154-79386ae23e93"
      },
      "execution_count": null,
      "outputs": [
        {
          "output_type": "stream",
          "name": "stdout",
          "text": [
            "Enter a string to check: \"hi\"\n",
            "The string does not match the pattern.\n"
          ]
        }
      ]
    },
    {
      "cell_type": "markdown",
      "source": [
        "3. Replace only the first occurrence of 5 with five for the given string\n",
        "\n"
      ],
      "metadata": {
        "id": "kyvbz3eNcZri"
      }
    },
    {
      "cell_type": "code",
      "source": [
        "ip = 'They ate 5 apples and 5 oranges'\n"
      ],
      "metadata": {
        "id": "pgZy45dxcqSg"
      },
      "execution_count": null,
      "outputs": []
    },
    {
      "cell_type": "code",
      "source": [
        "input_str = 'They ate 5 apples and 5 oranges'\n",
        "\n",
        "# Replace only the first occurrence of \"5\" with \"five\"\n",
        "modified_str = input_str.replace('5', 'five', 1)\n",
        "\n",
        "# Print the original and modified strings\n",
        "print(\"Original string:\", input_str)\n",
        "print(\"Modified string:\", modified_str)\n"
      ],
      "metadata": {
        "colab": {
          "base_uri": "https://localhost:8080/"
        },
        "id": "udkEnGz2r9A5",
        "outputId": "efb175b8-8729-4bde-e732-2fbb6f329f7b"
      },
      "execution_count": null,
      "outputs": [
        {
          "output_type": "stream",
          "name": "stdout",
          "text": [
            "Original string: They ate 5 apples and 5 oranges\n",
            "Modified string: They ate five apples and 5 oranges\n"
          ]
        }
      ]
    },
    {
      "cell_type": "markdown",
      "source": [
        "4. Write a Python program that matches a string that has an a followed by three 'b'.\n",
        "\n"
      ],
      "metadata": {
        "id": "h_b1-o6ncuzM"
      }
    },
    {
      "cell_type": "code",
      "source": [
        "import re\n",
        "\n",
        "def match_pattern(text):\n",
        "    # Regular expression to match 'a' followed by three 'b'\n",
        "    pattern = re.compile(r'aBBB')\n",
        "\n",
        "    # Check if the pattern matches the text\n",
        "    match = re.search(pattern, text)\n",
        "\n",
        "    return bool(match)\n",
        "\n",
        "\n",
        "test_string = \"This is aBBB example string with an apple and aBBBanother example.\"\n",
        "result = match_pattern(test_string)\n",
        "\n",
        "if result:\n",
        "    print(\"The pattern is found in the text.\")\n",
        "else:\n",
        "    print(\"No match found for the pattern.\")\n"
      ],
      "metadata": {
        "colab": {
          "base_uri": "https://localhost:8080/"
        },
        "id": "qMASBaC0G9e_",
        "outputId": "5faa239b-91e7-40db-e911-7bffa9105935"
      },
      "execution_count": 18,
      "outputs": [
        {
          "output_type": "stream",
          "name": "stdout",
          "text": [
            "The pattern is found in the text.\n"
          ]
        }
      ]
    },
    {
      "cell_type": "markdown",
      "source": [
        "5. Write a Python program that matches a string that has an 'a' followed by anything ending in 'b'.\n",
        "\n"
      ],
      "metadata": {
        "id": "K2vPe01bc2LN"
      }
    },
    {
      "cell_type": "code",
      "source": [
        "import re\n",
        "\n",
        "def match_pattern(text):\n",
        "    # Regular expression to match 'a' followed by anything and ending in 'b'\n",
        "    pattern = re.compile(r'a.*b$')\n",
        "\n",
        "    # Check if the pattern matches the text\n",
        "    match = re.search(pattern, text)\n",
        "\n",
        "    return bool(match)\n",
        "\n",
        "\n",
        "test_string = \"This is a sample string with an apple and a rabbit\"\n",
        "result = match_pattern(test_string)\n",
        "\n",
        "if result:\n",
        "    print(\"The pattern is found in the text.\")\n",
        "else:\n",
        "    print(\"No match found for the pattern.\")\n"
      ],
      "metadata": {
        "colab": {
          "base_uri": "https://localhost:8080/"
        },
        "id": "EZ5fi364GjFc",
        "outputId": "63e9377b-a2a2-4423-b638-c74f7ce35dc4"
      },
      "execution_count": 16,
      "outputs": [
        {
          "output_type": "stream",
          "name": "stdout",
          "text": [
            "No match found for the pattern.\n"
          ]
        }
      ]
    },
    {
      "cell_type": "markdown",
      "source": [
        "6. Write a Python program to search for numbers (0-9) of length between 1 and 3 in a given string."
      ],
      "metadata": {
        "id": "NyL-DhqXdZi7"
      }
    },
    {
      "cell_type": "markdown",
      "source": [],
      "metadata": {
        "id": "SGZ6sc-89s-j"
      }
    },
    {
      "cell_type": "code",
      "source": [
        "txt=\"Exercises number 1, 12, 13, and 345 are important\"\n"
      ],
      "metadata": {
        "id": "pWsu0HljdnKX"
      },
      "execution_count": 13,
      "outputs": []
    },
    {
      "cell_type": "code",
      "source": [
        "import re\n",
        "\n",
        "def find_numbers(text):\n",
        "    # Regular expression to find numbers of length 1 to 3\n",
        "    number_pattern = re.compile(r'\\b\\d{1,3}\\b')\n",
        "\n",
        "    # Find all matches in the text\n",
        "    matches = re.findall(number_pattern, text)\n",
        "\n",
        "    return matches\n",
        "\n",
        "# Example usage\n",
        "txt = \"Exercises number 1, 12, 13, and 345 are important\"\n",
        "numbers_found = find_numbers(txt)\n",
        "\n",
        "print(\"Numbers found in the text:\")\n",
        "print(numbers_found)\n"
      ],
      "metadata": {
        "colab": {
          "base_uri": "https://localhost:8080/"
        },
        "id": "lMPRmGGqGSko",
        "outputId": "36dc0038-8699-4813-bbf7-ce1e4c5992c0"
      },
      "execution_count": 14,
      "outputs": [
        {
          "output_type": "stream",
          "name": "stdout",
          "text": [
            "Numbers found in the text:\n",
            "['1', '12', '13', '345']\n"
          ]
        }
      ]
    },
    {
      "cell_type": "markdown",
      "source": [
        "7. Write a Python program to search for literal strings within a string.\\\n",
        "Sample text : 'The quick brown fox jumps over the lazy dog.' \\\n",
        "Searched words : 'fox', 'dog', 'horse'"
      ],
      "metadata": {
        "id": "aWaHWXFjdqy7"
      }
    },
    {
      "cell_type": "code",
      "source": [
        "def search_for_words(text, words):\n",
        "    found_words = []\n",
        "\n",
        "    for word in words:\n",
        "        if word in text:\n",
        "            found_words.append(word)\n",
        "\n",
        "    return found_words\n",
        "\n",
        "# Example usage\n",
        "sample_text = 'The quick brown fox jumps over the lazy dog.'\n",
        "searched_words = ['fox', 'dog', 'horse']\n",
        "\n",
        "result = search_for_words(sample_text, searched_words)\n",
        "\n",
        "print(\"Words found in the text:\")\n",
        "for word in result:\n",
        "    print(f\"  {word}\")\n"
      ],
      "metadata": {
        "colab": {
          "base_uri": "https://localhost:8080/"
        },
        "id": "DVXWIi4tHXH4",
        "outputId": "bda3062b-926b-4942-b99e-5caf1d8d5151"
      },
      "execution_count": 19,
      "outputs": [
        {
          "output_type": "stream",
          "name": "stdout",
          "text": [
            "Words found in the text:\n",
            "  fox\n",
            "  dog\n"
          ]
        }
      ]
    },
    {
      "cell_type": "markdown",
      "source": [
        "8. Write a Python program to search for a literal string in a string and also find the location within the original string where the pattern occurs.\n",
        "\n",
        "Sample text : 'The quick brown fox jumps over the lazy dog.' \\\n",
        "Searched words : 'fox'"
      ],
      "metadata": {
        "id": "2cgZLc6Yd0sE"
      }
    },
    {
      "cell_type": "code",
      "source": [
        "def search_string(original_string, pattern):\n",
        "    # Use find() to search for the pattern in the original string\n",
        "    index = original_string.find(pattern)\n",
        "\n",
        "    if index != -1:\n",
        "        print(f\"Pattern '{pattern}' found at position {index} in the original string.\")\n",
        "    else:\n",
        "        print(f\"Pattern '{pattern}' not found in the original string.\")\n",
        "\n",
        "# Example usage:\n",
        "original_text = 'The quick brown fox jumps over the lazy dog.'\n",
        "searched_words = 'fox'\n",
        "\n",
        "search_string(original_text, searched_words)\n"
      ],
      "metadata": {
        "colab": {
          "base_uri": "https://localhost:8080/"
        },
        "id": "NpPPkBdg-nY3",
        "outputId": "7170f810-a3f1-493e-84d1-16ba930e740c"
      },
      "execution_count": 7,
      "outputs": [
        {
          "output_type": "stream",
          "name": "stdout",
          "text": [
            "Pattern 'fox' found at position 16 in the original string.\n"
          ]
        }
      ]
    },
    {
      "cell_type": "markdown",
      "source": [
        "9.  Write a Python program to extract year, month and date from an URL"
      ],
      "metadata": {
        "id": "ixuwdsnvdtcP"
      }
    },
    {
      "cell_type": "code",
      "source": [
        "import re\n",
        "url1= \"https://www.washingtonpost.com/news/football-insider/wp/2016/09/02/odell-beckhams-fame-rests-on-one-stupid-little-ball-josh-norman-tells-author/\"\n"
      ],
      "metadata": {
        "id": "uWA2_OfJeFpw",
        "colab": {
          "base_uri": "https://localhost:8080/"
        },
        "outputId": "940566ff-599a-4551-9051-734fd18e3085"
      },
      "execution_count": null,
      "outputs": [
        {
          "output_type": "stream",
          "name": "stdout",
          "text": [
            "('2016/09/02', '2016', '09', '02')\n"
          ]
        }
      ]
    },
    {
      "cell_type": "code",
      "source": [
        "import re\n",
        "\n",
        "def extract_date_from_url(url):\n",
        "    # Define the regular expression pattern to extract the date\n",
        "    pattern = r'/(\\d{4})/(\\d{2})/(\\d{2})/'\n",
        "\n",
        "    # Use re.search to find the match in the URL\n",
        "    match = re.search(pattern, url)\n",
        "\n",
        "    if match:\n",
        "        year, month, day = match.groups()\n",
        "        return f\"Year: {year}, Month: {month}, Day: {day}\"\n",
        "    else:\n",
        "        return \"Date not found in the URL.\"\n",
        "\n",
        "\n",
        "url1 = \"https://www.washingtonpost.com/news/football-insider/wp/2016/09/02/odell-beckhams-fame-rests-on-one-stupid-little-ball-josh-norman-tells-author/\"\n",
        "result = extract_date_from_url(url1)\n",
        "\n",
        "print(result)\n"
      ],
      "metadata": {
        "colab": {
          "base_uri": "https://localhost:8080/"
        },
        "id": "NnwSFfhg_eeC",
        "outputId": "05e72632-2e96-4cb5-cef4-e369f0f46414"
      },
      "execution_count": 20,
      "outputs": [
        {
          "output_type": "stream",
          "name": "stdout",
          "text": [
            "Year: 2016, Month: 09, Day: 02\n"
          ]
        }
      ]
    },
    {
      "cell_type": "markdown",
      "source": [
        "10. Write a Python program to find URLs in a string.\n",
        "\n"
      ],
      "metadata": {
        "id": "Qdob8Ojkea-W"
      }
    },
    {
      "cell_type": "code",
      "source": [
        "text = '<p>Contents :</p><a href=\"https://w3resource.com\">Python Examples</a><a href=\"http://github.com\">Even More Examples</a>'\n"
      ],
      "metadata": {
        "id": "d9KUcdQEeIJu"
      },
      "execution_count": null,
      "outputs": []
    },
    {
      "cell_type": "code",
      "source": [
        "import re\n",
        "from urllib.parse import urlparse\n",
        "\n",
        "def find_urls_in_html(html):\n",
        "    # Regular expression to find URLs in the HTML\n",
        "    url_pattern = re.compile(r'href=[\"\\'](https?://\\S+|www\\.\\S+)[\"\\']')\n",
        "\n",
        "    # Find all matches in the HTML\n",
        "    matches = re.findall(url_pattern, html)\n",
        "\n",
        "    # Parse each URL and extract the components\n",
        "    parsed_urls = [urlparse(url) for url in matches]\n",
        "\n",
        "    return parsed_urls\n",
        "\n",
        "# Example usage\n",
        "html_string = '<p>Contents :</p><a href=\"https://w3resource.com\">Python Examples</a><a href=\"http://github.com\">Even More Examples</a>'\n",
        "urls = find_urls_in_html(html_string)\n",
        "\n",
        "print(\"Found URLs in HTML:\")\n",
        "for url in urls:\n",
        "    print(f\"  {url.geturl()}\")\n",
        "    print(f\"    Scheme: {url.scheme}\")\n",
        "    print(f\"    Netloc: {url.netloc}\")\n",
        "    print(f\"    Path: {url.path}\")\n",
        "    print(f\"    Params: {url.params}\")\n",
        "    print(f\"    Query: {url.query}\")\n",
        "    print(f\"    Fragment: {url.fragment}\")\n",
        "    print()\n"
      ],
      "metadata": {
        "colab": {
          "base_uri": "https://localhost:8080/"
        },
        "id": "aLNZJZPpFpyl",
        "outputId": "7ee792a1-d52e-4e25-d1e5-e9f189386554"
      },
      "execution_count": 12,
      "outputs": [
        {
          "output_type": "stream",
          "name": "stdout",
          "text": [
            "Found URLs in HTML:\n",
            "  https://w3resource.com\n",
            "    Scheme: https\n",
            "    Netloc: w3resource.com\n",
            "    Path: \n",
            "    Params: \n",
            "    Query: \n",
            "    Fragment: \n",
            "\n",
            "  http://github.com\n",
            "    Scheme: http\n",
            "    Netloc: github.com\n",
            "    Path: \n",
            "    Params: \n",
            "    Query: \n",
            "    Fragment: \n",
            "\n"
          ]
        }
      ]
    },
    {
      "cell_type": "markdown",
      "source": [
        "11. Write a Python program to remove the parenthesis area in a string.\\\n",
        "\n",
        "Sample data : [\"example (.com)\", \"w3resource\", \"github (.com)\", \"stackoverflow (.com)\"] \\\n",
        "Expected Output: \\\n",
        "example  \\\n",
        "w3resource \\\n",
        "github  \\\n",
        "stackoverflow. \\\n",
        "\n"
      ],
      "metadata": {
        "id": "5mX_cCEFepSi"
      }
    },
    {
      "cell_type": "code",
      "source": [
        "import re\n",
        "\n",
        "def remove_parenthesis_area(input_strings):\n",
        "    output_strings = []\n",
        "    for input_str in input_strings:\n",
        "        result = re.sub(r'\\([^)]*\\)', '', input_str)\n",
        "        output_strings.append(result.strip())\n",
        "    return output_strings\n",
        "\n",
        "sample_data = [\"example (.com)\", \"w3resource\", \"github (.com)\", \"stackoverflow (.com)\"]\n",
        "result = remove_parenthesis_area(sample_data)\n",
        "\n",
        "for item in result:\n",
        "    print(item)\n"
      ],
      "metadata": {
        "colab": {
          "base_uri": "https://localhost:8080/"
        },
        "id": "lZewZI2JA4qN",
        "outputId": "169eea8d-140b-4952-addd-d70f0f57effe"
      },
      "execution_count": 10,
      "outputs": [
        {
          "output_type": "stream",
          "name": "stdout",
          "text": [
            "example\n",
            "w3resource\n",
            "github\n",
            "stackoverflow\n"
          ]
        }
      ]
    },
    {
      "cell_type": "markdown",
      "source": [
        "12. Write a Python program to concatenate the consecutive numbers in a given string. \\\n",
        "\n",
        "Original string:  \\\n",
        "Enter at 1 20 Kearny Street. The security desk can direct you to floor 1 6. Please have your identification ready.  \\\n",
        "\n",
        "After concatenating the consecutive numbers in the said string:  \\\n",
        "Enter at 120 Kearny Street. The security desk can direct you to floor 16. Please have your identification ready."
      ],
      "metadata": {
        "id": "sRhveFHXe7nz"
      }
    },
    {
      "cell_type": "code",
      "source": [
        "import re\n",
        "\n",
        "def concatenate_consecutive_numbers(input_str):\n",
        "    result = re.sub(r'(\\b\\d+\\b)\\s+(\\b\\d+\\b)', lambda match: match.group(1) + match.group(2), input_str)\n",
        "    return result\n",
        "\n",
        "original_string = \"Enter at 1 20 Kearny Street. The security desk can direct you to floor 1 6. Please have your identification ready.\"\n",
        "\n",
        "modified_string = concatenate_consecutive_numbers(original_string)\n",
        "\n",
        "print(\"Original string:\")\n",
        "print(original_string)\n",
        "print(\"\\nAfter concatenating the consecutive numbers:\")\n",
        "print(modified_string)\n"
      ],
      "metadata": {
        "id": "4dcBL0RTe_zP",
        "colab": {
          "base_uri": "https://localhost:8080/"
        },
        "outputId": "112f2661-3bd9-418f-9da2-effb36c10d26"
      },
      "execution_count": 11,
      "outputs": [
        {
          "output_type": "stream",
          "name": "stdout",
          "text": [
            "Original string:\n",
            "Enter at 1 20 Kearny Street. The security desk can direct you to floor 1 6. Please have your identification ready.\n",
            "\n",
            "After concatenating the consecutive numbers:\n",
            "Enter at 120 Kearny Street. The security desk can direct you to floor 16. Please have your identification ready.\n"
          ]
        }
      ]
    },
    {
      "cell_type": "markdown",
      "source": [],
      "metadata": {
        "id": "rENrD10afBB3"
      }
    }
  ]
}