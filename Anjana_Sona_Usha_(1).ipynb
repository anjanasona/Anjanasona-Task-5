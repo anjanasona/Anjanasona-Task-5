{
  "nbformat": 4,
  "nbformat_minor": 0,
  "metadata": {
    "colab": {
      "provenance": []
    },
    "kernelspec": {
      "name": "python3",
      "display_name": "Python 3"
    },
    "language_info": {
      "name": "python"
    }
  },
  "cells": [
    {
      "cell_type": "markdown",
      "source": [
        "1. Write a Python program to sum all the items in a list.\n"
      ],
      "metadata": {
        "id": "WbWqfjLILpYR"
      }
    },
    {
      "cell_type": "code",
      "execution_count": null,
      "metadata": {
        "id": "IeHCdrS5KBAJ",
        "colab": {
          "base_uri": "https://localhost:8080/"
        },
        "outputId": "192836cd-8ba8-4794-823f-47cf5109becd"
      },
      "outputs": [
        {
          "output_type": "stream",
          "name": "stdout",
          "text": [
            "sum of list is: 46\n"
          ]
        }
      ],
      "source": [
        "l = [1, 8, 10, 12, 15]\n",
        "sum=0\n",
        "for i in l:\n",
        "  sum=sum+i\n",
        "print(\"sum of list is:\",sum)\n"
      ]
    },
    {
      "cell_type": "markdown",
      "source": [
        "2. Write a Python program to get the largest number from a list.\n"
      ],
      "metadata": {
        "id": "1NgXL_KTLulQ"
      }
    },
    {
      "cell_type": "code",
      "source": [
        "l=[2,18,45,58,76,38]\n",
        "l.sort()\n",
        "print(\"the largest number in the list is:\",l[-1])"
      ],
      "metadata": {
        "colab": {
          "base_uri": "https://localhost:8080/"
        },
        "id": "lAAPey-Tns87",
        "outputId": "d5fd5a29-bd5c-4532-b190-2ac0f2a63d6c"
      },
      "execution_count": null,
      "outputs": [
        {
          "output_type": "stream",
          "name": "stdout",
          "text": [
            "the largest number in the list is: 76\n"
          ]
        }
      ]
    },
    {
      "cell_type": "markdown",
      "source": [
        "3. Write a Python program to count the number of strings from a given list of strings. The string length is 2 or more and the first and last characters are the same.\n",
        "\n",
        "```\n",
        "Sample List : ['abc', 'xyz', 'aba', '1221']\n",
        "Expected Result : 2\n",
        "```"
      ],
      "metadata": {
        "id": "azKVRKqWLvtp"
      }
    },
    {
      "cell_type": "code",
      "source": [
        "l=['abc','xyz','aba','1221']\n",
        "a=[]\n",
        "for i in l:\n",
        "  if len(i)>=2 and i[0]==i[-1]:\n",
        "    a.append(i)\n",
        "print(len(a))"
      ],
      "metadata": {
        "colab": {
          "base_uri": "https://localhost:8080/"
        },
        "id": "_wjXgDYHIkjw",
        "outputId": "71be864a-0661-4a19-ae07-58889b1b6dc9"
      },
      "execution_count": null,
      "outputs": [
        {
          "output_type": "stream",
          "name": "stdout",
          "text": [
            "2\n"
          ]
        }
      ]
    },
    {
      "cell_type": "markdown",
      "source": [
        "4. Write a Python program to remove duplicates from a list.\n"
      ],
      "metadata": {
        "id": "2ZYOfK4rL20r"
      }
    },
    {
      "cell_type": "code",
      "source": [
        "mylist=[2,5,8,9,10,2,5,8,]\n",
        "newlist=[]\n",
        "for i in mylist:\n",
        "  if i not in newlist:\n",
        "    newlist.append(i)\n",
        "print(newlist)"
      ],
      "metadata": {
        "colab": {
          "base_uri": "https://localhost:8080/"
        },
        "id": "5TNRUaFK57Nz",
        "outputId": "2b173887-3b4c-4909-ded5-05327914194c"
      },
      "execution_count": null,
      "outputs": [
        {
          "output_type": "stream",
          "name": "stdout",
          "text": [
            "[2, 5, 8, 9, 10]\n"
          ]
        }
      ]
    },
    {
      "cell_type": "markdown",
      "source": [
        "5. Write a Python program to check if a list is empty or not.\n"
      ],
      "metadata": {
        "id": "kjtsEf0tL358"
      }
    },
    {
      "cell_type": "code",
      "source": [
        "list=[5,8,22,69,7,88]\n",
        "list.clear()\n",
        "a=[]\n",
        "if len(a)==0:\n",
        "  print(\"the given list is empty\")\n",
        "else:\n",
        "  print(\"the given list is not empty\")\n"
      ],
      "metadata": {
        "colab": {
          "base_uri": "https://localhost:8080/"
        },
        "id": "IfKw0kZK0zyL",
        "outputId": "0fbd9a41-3a18-4deb-9a86-bd786efafef1"
      },
      "execution_count": null,
      "outputs": [
        {
          "output_type": "stream",
          "name": "stdout",
          "text": [
            "the given list is empty\n"
          ]
        }
      ]
    },
    {
      "cell_type": "markdown",
      "source": [
        "6. Write a Python program to filter the list if the length of the character is < 4\n",
        "\n",
        "```\n",
        "Sample List : ['abc', 'xyz', 'aba', '1221']\n",
        "Expected Result: ['abc', 'xyz', 'aba']\n",
        "```\n"
      ],
      "metadata": {
        "id": "HPq-j6_5L6Bu"
      }
    },
    {
      "cell_type": "code",
      "source": [
        "list=['abc','xyz','aba','1221']\n",
        "newlist=[i for i in list if len(i)<4]\n",
        "newlist\n"
      ],
      "metadata": {
        "id": "GJY-63SFF6K_",
        "colab": {
          "base_uri": "https://localhost:8080/"
        },
        "outputId": "3dd07410-0647-41e0-f1ce-b6108dc0aea7"
      },
      "execution_count": null,
      "outputs": [
        {
          "output_type": "execute_result",
          "data": {
            "text/plain": [
              "['abc', 'xyz', 'aba']"
            ]
          },
          "metadata": {},
          "execution_count": 185
        }
      ]
    },
    {
      "cell_type": "markdown",
      "source": [
        "7.Write a Python program to find the second largest number in a list.\n"
      ],
      "metadata": {
        "id": "0Vo0Eo4GL_2N"
      }
    },
    {
      "cell_type": "code",
      "source": [
        "l=[2,8,55,48]\n",
        "l.sort(reverse=False)\n",
        "print(\"the second largest number in the list:\",l[-1])"
      ],
      "metadata": {
        "id": "0x8RYLniLtBy",
        "colab": {
          "base_uri": "https://localhost:8080/"
        },
        "outputId": "4f935ef1-ebc6-4ade-abb8-1c65ac9c006e"
      },
      "execution_count": null,
      "outputs": [
        {
          "output_type": "stream",
          "name": "stdout",
          "text": [
            "the second largest number in the list: 55\n"
          ]
        }
      ]
    },
    {
      "cell_type": "markdown",
      "source": [
        "8. Write a Python program to reverse a list at a specific location.\n"
      ],
      "metadata": {
        "id": "aManSXvqMBoz"
      }
    },
    {
      "cell_type": "code",
      "source": [
        "loc=2\n",
        "l=[1,5,2,8,6]\n",
        "l1=l[:2]\n",
        "l2=l[2:]\n",
        "l2.reverse()\n",
        "result=l1+l2\n",
        "print(result)"
      ],
      "metadata": {
        "colab": {
          "base_uri": "https://localhost:8080/"
        },
        "id": "AptZ120Mi-Zc",
        "outputId": "bfd6205b-e0a9-43f1-c966-0bcbe5ff9364"
      },
      "execution_count": null,
      "outputs": [
        {
          "output_type": "stream",
          "name": "stdout",
          "text": [
            "[1, 5, 6, 8, 2]\n"
          ]
        }
      ]
    },
    {
      "cell_type": "markdown",
      "source": [
        "9. Write a Python program to check if a list is a palindrome or not. Return true otherwise false.\n"
      ],
      "metadata": {
        "id": "-mIvdmfVMCyV"
      }
    },
    {
      "cell_type": "code",
      "source": [
        "def palindrome(lst):\n",
        "  if  lst==lst[::-1]:\n",
        "    print(\"true\")\n",
        "  else:\n",
        "    print(\"false\")\n",
        "\n",
        "lst=[1,2,3,2,1]\n",
        "palindrome(lst)"
      ],
      "metadata": {
        "colab": {
          "base_uri": "https://localhost:8080/"
        },
        "id": "Hw0uDCiYAgn6",
        "outputId": "1a36448d-617e-4a53-a5dc-ddeae9b44fac"
      },
      "execution_count": null,
      "outputs": [
        {
          "output_type": "stream",
          "name": "stdout",
          "text": [
            "true\n"
          ]
        }
      ]
    },
    {
      "cell_type": "markdown",
      "source": [
        "10. Write a Python a program to find the union and intersection of two lists.\n"
      ],
      "metadata": {
        "id": "r_OaahEUMFk9"
      }
    },
    {
      "cell_type": "code",
      "source": [
        "list1=[5,2,10,25,15,32]\n",
        "list2=[15,32,15,42]\n",
        "union=[]\n",
        "intersection=[]\n",
        "\n",
        "for i in list1:\n",
        "  if i not in union:\n",
        "    union.append(i)\n",
        "for j in list2:\n",
        "   if j not in union:\n",
        "    union.append(j)\n",
        "  #intersection\n",
        "for i in list1:\n",
        "    if i in list2:\n",
        "      intersection.append(i)\n",
        "print(\"union list:\",union)\n",
        "print(\"intersection list:\",intersection)\n",
        "\n"
      ],
      "metadata": {
        "colab": {
          "base_uri": "https://localhost:8080/"
        },
        "id": "5qgyrs1mqOIa",
        "outputId": "2790e3a7-d01b-4895-aafa-bfa6b7ea150a"
      },
      "execution_count": null,
      "outputs": [
        {
          "output_type": "stream",
          "name": "stdout",
          "text": [
            "union list: [5, 2, 10, 25, 15, 32, 42]\n",
            "intersection list: [15, 32]\n"
          ]
        }
      ]
    },
    {
      "cell_type": "code",
      "source": [],
      "metadata": {
        "id": "g5Rw-SMQMF7d"
      },
      "execution_count": null,
      "outputs": []
    },
    {
      "cell_type": "markdown",
      "source": [
        "11.Write a Python script to sort (ascending and descending) a dictionary by value\n"
      ],
      "metadata": {
        "id": "O_KaZq9mMHMo"
      }
    },
    {
      "cell_type": "code",
      "source": [
        "d={3:\"e\",2:\"d\",5:\"f\",8:\"k\"}\n",
        "sorted(d.values())"
      ],
      "metadata": {
        "id": "82LODMSVnnnM",
        "colab": {
          "base_uri": "https://localhost:8080/"
        },
        "outputId": "3b0e4b22-50c4-4ead-cac9-0879ca9e4c39"
      },
      "execution_count": null,
      "outputs": [
        {
          "output_type": "execute_result",
          "data": {
            "text/plain": [
              "['d', 'e', 'f', 'k']"
            ]
          },
          "metadata": {},
          "execution_count": 79
        }
      ]
    },
    {
      "cell_type": "markdown",
      "source": [
        "12. Write a Python script to check whether a given key already exists in a dictionary.\n"
      ],
      "metadata": {
        "id": "LRtPwyETMJFB"
      }
    },
    {
      "cell_type": "code",
      "source": [
        "thisdict= {\"color\":\"white\",\"height\": 165,\"quantity\":250}\n",
        "if \"height\" in thisdict:\n",
        "  print(\"key exist\")\n",
        "else:\n",
        " print(\"key doesnt exist\")\n"
      ],
      "metadata": {
        "colab": {
          "base_uri": "https://localhost:8080/"
        },
        "id": "cqYrmv9FO2WE",
        "outputId": "35a5c053-d05a-4576-b2f7-9bfc5bc82437"
      },
      "execution_count": null,
      "outputs": [
        {
          "output_type": "stream",
          "name": "stdout",
          "text": [
            "key exist\n"
          ]
        }
      ]
    },
    {
      "cell_type": "code",
      "source": [],
      "metadata": {
        "id": "CzQHm4IWMJX5"
      },
      "execution_count": null,
      "outputs": []
    },
    {
      "cell_type": "markdown",
      "source": [
        "13.Write a Python program to sum all the values in a dictionary.\n"
      ],
      "metadata": {
        "id": "ndM9xtBpMK7b"
      }
    },
    {
      "cell_type": "code",
      "source": [
        "a={\"apple\":22,\"orange\":98,\"mango\":42,}\n",
        "b=a.items()\n",
        "value=[]\n",
        "for k,v in b:\n",
        "  value.append(v)\n",
        "sum=0\n",
        "for i in value:\n",
        "    sum+=i\n",
        "print(sum)"
      ],
      "metadata": {
        "colab": {
          "base_uri": "https://localhost:8080/"
        },
        "id": "UPRjI4aaClc0",
        "outputId": "55df25a9-ac21-4b9b-fbbc-9ee0933cb057"
      },
      "execution_count": null,
      "outputs": [
        {
          "output_type": "stream",
          "name": "stdout",
          "text": [
            "162\n"
          ]
        }
      ]
    },
    {
      "cell_type": "markdown",
      "source": [
        "14.Write a Python program to create a dictionary with a number and its corresponding square from 1 to input number. And also check if the input number is less than 10\n",
        "\n",
        "```\n",
        "Eg:\n",
        "Input : 3\n",
        "Output : {1:1, 2:4, 3:9}\n",
        "```"
      ],
      "metadata": {
        "id": "0qVfQATqMNdJ"
      }
    },
    {
      "cell_type": "code",
      "source": [
        "def square_dictionary(a):\n",
        "  d={}\n",
        "  if a<10:\n",
        "    for i in range(1,a+1):\n",
        "      d[i]=i*i\n",
        "    return d\n",
        "  else:\n",
        "    print(\"input number should be less than 10\")\n",
        "    return None\n",
        "square_dictionary(6)"
      ],
      "metadata": {
        "colab": {
          "base_uri": "https://localhost:8080/"
        },
        "id": "Gv--pnY_Ep9D",
        "outputId": "38ba623f-1088-4a35-e8ad-cf7d4c900614"
      },
      "execution_count": null,
      "outputs": [
        {
          "output_type": "execute_result",
          "data": {
            "text/plain": [
              "{1: 1, 2: 4, 3: 9, 4: 16, 5: 25, 6: 36}"
            ]
          },
          "metadata": {},
          "execution_count": 193
        }
      ]
    },
    {
      "cell_type": "markdown",
      "source": [
        "15.Write a Python program to sort a given dictionary by key.\n"
      ],
      "metadata": {
        "id": "5Ku1ZCBMMRGO"
      }
    },
    {
      "cell_type": "code",
      "source": [
        "d= {'a': 100, 'b': 200, 'c': 300}\n",
        "sorted(d)"
      ],
      "metadata": {
        "id": "Uo1ha3q4MRaG",
        "colab": {
          "base_uri": "https://localhost:8080/"
        },
        "outputId": "e3c293a2-b494-4bbb-fa4b-b76b65bc088d"
      },
      "execution_count": null,
      "outputs": [
        {
          "output_type": "execute_result",
          "data": {
            "text/plain": [
              "['a', 'b', 'c']"
            ]
          },
          "metadata": {},
          "execution_count": 82
        }
      ]
    },
    {
      "cell_type": "markdown",
      "source": [
        "16.  Write a Python program to create a dictionary from a string.\n",
        "\n",
        "```\n",
        "Note: Track the count of the letters from the string.\n",
        "Sample string : 'learnpython'\n",
        "Expected output: {'l': 1, 'e': 1, 'a': 1, 'r': 1, 'n': 2, 'p': 1, 'y': 1, 't': 1, 'h': 1, 'o': 1}\n",
        "\n",
        "```"
      ],
      "metadata": {
        "id": "VFB6DT7uMTCo"
      }
    },
    {
      "cell_type": "code",
      "source": [
        "string=\"helloworld\"\n",
        "thisdict={}\n",
        "for letter in string:\n",
        " thisdict[letter]=thisdict.get(letter,0)+1\n",
        "print(thisdict)\n"
      ],
      "metadata": {
        "id": "LV2Oi4TWgWgY",
        "colab": {
          "base_uri": "https://localhost:8080/"
        },
        "outputId": "5a8b756d-0817-4c1e-c6ae-fba136aa0fe9"
      },
      "execution_count": null,
      "outputs": [
        {
          "output_type": "stream",
          "name": "stdout",
          "text": [
            "{'h': 1, 'e': 1, 'l': 3, 'o': 2, 'w': 1, 'r': 1, 'd': 1}\n"
          ]
        }
      ]
    },
    {
      "cell_type": "code",
      "source": [],
      "metadata": {
        "id": "Pst-k-SZMTUo"
      },
      "execution_count": null,
      "outputs": []
    },
    {
      "cell_type": "markdown",
      "source": [
        "17. Write a Python program to get the top three items in a shop.\n",
        "\n",
        "```\n",
        "Sample data: {'item1': 45.50, 'item2':35, 'item3': 41.30, 'item4':55, 'item5': 24}\n",
        "\n",
        "Expected Output:\n",
        "item4 55\n",
        "item1 45.5\n",
        "item3 41.3\n",
        "```\n"
      ],
      "metadata": {
        "id": "OnYknUtWMYSr"
      }
    },
    {
      "cell_type": "code",
      "source": [
        "data={'item1': 45.50, 'item2':35, 'item3': 41.30, 'item4':55, 'item5': 24}\n",
        "values=data.values()\n",
        "values=list(values)\n",
        "values.sort()\n",
        "a=values[-3:]\n",
        "a.reverse\n",
        "for k,v in data.items():\n",
        "  if v in a:\n",
        "    print(k,v)"
      ],
      "metadata": {
        "colab": {
          "base_uri": "https://localhost:8080/"
        },
        "id": "Y1sGo2XAKdsH",
        "outputId": "4510a6ea-e081-4b42-925d-ed83dd18095e"
      },
      "execution_count": 2,
      "outputs": [
        {
          "output_type": "stream",
          "name": "stdout",
          "text": [
            "item1 45.5\n",
            "item3 41.3\n",
            "item4 55\n"
          ]
        }
      ]
    }
  ]
}